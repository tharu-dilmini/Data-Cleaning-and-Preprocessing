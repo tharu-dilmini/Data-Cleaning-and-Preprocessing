{
  "nbformat": 4,
  "nbformat_minor": 0,
  "metadata": {
    "colab": {
      "provenance": []
    },
    "kernelspec": {
      "name": "python3",
      "display_name": "Python 3"
    },
    "language_info": {
      "name": "python"
    }
  },
  "cells": [
    {
      "cell_type": "markdown",
      "source": [
        "**Task 1.1: Initial Data Inspection**\n"
      ],
      "metadata": {
        "id": "ctSaQ2MPzToj"
      }
    },
    {
      "cell_type": "code",
      "execution_count": 2,
      "metadata": {
        "id": "PxVI3h6CmiK7"
      },
      "outputs": [],
      "source": [
        "import pandas as pd\n",
        "import numpy as np\n",
        "import matplotlib.pyplot as plt\n",
        "import seaborn as sns\n",
        "from datetime import datetime\n",
        "import warnings\n",
        "warnings.filterwarnings('ignore')"
      ]
    },
    {
      "cell_type": "markdown",
      "source": [
        "Load Dataset"
      ],
      "metadata": {
        "id": "UemiaGcLoRCC"
      }
    },
    {
      "cell_type": "code",
      "source": [
        "hotel_booking = pd.read_csv('/content/hotel_bookings.csv')"
      ],
      "metadata": {
        "id": "sKlApK_gnnJ7"
      },
      "execution_count": 3,
      "outputs": []
    },
    {
      "cell_type": "markdown",
      "source": [
        "Display basic information about the dataset:\n",
        "Shape of the dataset"
      ],
      "metadata": {
        "id": "S6f1zormoj4h"
      }
    },
    {
      "cell_type": "code",
      "source": [
        "print(\"Dataset Shape:\", hotel_booking.shape)"
      ],
      "metadata": {
        "colab": {
          "base_uri": "https://localhost:8080/"
        },
        "id": "C6iH23BWopQ5",
        "outputId": "ebe4f7da-709e-47b5-d9e8-fb9ef2012849"
      },
      "execution_count": 4,
      "outputs": [
        {
          "output_type": "stream",
          "name": "stdout",
          "text": [
            "Dataset Shape: (21950, 32)\n"
          ]
        }
      ]
    },
    {
      "cell_type": "markdown",
      "source": [
        "Data types of each column"
      ],
      "metadata": {
        "id": "OVDyFx_VowT5"
      }
    },
    {
      "cell_type": "code",
      "source": [
        "print(hotel_booking.dtypes)"
      ],
      "metadata": {
        "colab": {
          "base_uri": "https://localhost:8080/"
        },
        "id": "TzGgNpvtnxry",
        "outputId": "262f504d-e8c4-4c5a-d0f1-d325d8f61c4e"
      },
      "execution_count": 5,
      "outputs": [
        {
          "output_type": "stream",
          "name": "stdout",
          "text": [
            "hotel                              object\n",
            "is_canceled                         int64\n",
            "lead_time                           int64\n",
            "arrival_date_year                   int64\n",
            "arrival_date_month                 object\n",
            "arrival_date_week_number            int64\n",
            "arrival_date_day_of_month           int64\n",
            "stays_in_weekend_nights             int64\n",
            "stays_in_week_nights                int64\n",
            "adults                              int64\n",
            "children                            int64\n",
            "babies                              int64\n",
            "meal                               object\n",
            "country                            object\n",
            "market_segment                     object\n",
            "distribution_channel               object\n",
            "is_repeated_guest                   int64\n",
            "previous_cancellations              int64\n",
            "previous_bookings_not_canceled      int64\n",
            "reserved_room_type                 object\n",
            "assigned_room_type                 object\n",
            "booking_changes                     int64\n",
            "deposit_type                       object\n",
            "agent                             float64\n",
            "company                           float64\n",
            "days_in_waiting_list                int64\n",
            "customer_type                      object\n",
            "adr                               float64\n",
            "required_car_parking_spaces       float64\n",
            "total_of_special_requests         float64\n",
            "reservation_status                 object\n",
            "reservation_status_date            object\n",
            "dtype: object\n"
          ]
        }
      ]
    },
    {
      "cell_type": "markdown",
      "source": [
        "First and last 5 rows"
      ],
      "metadata": {
        "id": "clkEeIzVo1Px"
      }
    },
    {
      "cell_type": "code",
      "source": [
        "print(\"\\nFirst 5 rows:\")\n",
        "print(hotel_booking.head(10))"
      ],
      "metadata": {
        "colab": {
          "base_uri": "https://localhost:8080/"
        },
        "id": "IpbmYOgKo6HZ",
        "outputId": "91ac11eb-6c3f-4f0e-c600-c81afc3154b6"
      },
      "execution_count": 6,
      "outputs": [
        {
          "output_type": "stream",
          "name": "stdout",
          "text": [
            "\n",
            "First 5 rows:\n",
            "          hotel  is_canceled  lead_time  arrival_date_year arrival_date_month  \\\n",
            "0  Resort Hotel            0        342               2015               July   \n",
            "1  Resort Hotel            0        737               2015               July   \n",
            "2  Resort Hotel            0          7               2015               July   \n",
            "3  Resort Hotel            0         13               2015               July   \n",
            "4  Resort Hotel            0         14               2015               July   \n",
            "5  Resort Hotel            0         14               2015               July   \n",
            "6  Resort Hotel            0          0               2015               July   \n",
            "7  Resort Hotel            0          9               2015               July   \n",
            "8  Resort Hotel            1         85               2015               July   \n",
            "9  Resort Hotel            1         75               2015               July   \n",
            "\n",
            "   arrival_date_week_number  arrival_date_day_of_month  \\\n",
            "0                        27                          1   \n",
            "1                        27                          1   \n",
            "2                        27                          1   \n",
            "3                        27                          1   \n",
            "4                        27                          1   \n",
            "5                        27                          1   \n",
            "6                        27                          1   \n",
            "7                        27                          1   \n",
            "8                        27                          1   \n",
            "9                        27                          1   \n",
            "\n",
            "   stays_in_weekend_nights  stays_in_week_nights  adults  ...  deposit_type  \\\n",
            "0                        0                     0       2  ...    No Deposit   \n",
            "1                        0                     0       2  ...    No Deposit   \n",
            "2                        0                     1       1  ...    No Deposit   \n",
            "3                        0                     1       1  ...    No Deposit   \n",
            "4                        0                     2       2  ...    No Deposit   \n",
            "5                        0                     2       2  ...    No Deposit   \n",
            "6                        0                     2       2  ...    No Deposit   \n",
            "7                        0                     2       2  ...    No Deposit   \n",
            "8                        0                     3       2  ...    No Deposit   \n",
            "9                        0                     3       2  ...    No Deposit   \n",
            "\n",
            "   agent company days_in_waiting_list customer_type    adr  \\\n",
            "0    NaN     NaN                    0     Transient    0.0   \n",
            "1    NaN     NaN                    0     Transient    0.0   \n",
            "2    NaN     NaN                    0     Transient   75.0   \n",
            "3  304.0     NaN                    0     Transient   75.0   \n",
            "4  240.0     NaN                    0     Transient   98.0   \n",
            "5  240.0     NaN                    0     Transient   98.0   \n",
            "6    NaN     NaN                    0     Transient  107.0   \n",
            "7  303.0     NaN                    0     Transient  103.0   \n",
            "8  240.0     NaN                    0     Transient   82.0   \n",
            "9   15.0     NaN                    0     Transient  105.5   \n",
            "\n",
            "   required_car_parking_spaces  total_of_special_requests  reservation_status  \\\n",
            "0                          0.0                        0.0           Check-Out   \n",
            "1                          0.0                        0.0           Check-Out   \n",
            "2                          0.0                        0.0           Check-Out   \n",
            "3                          0.0                        0.0           Check-Out   \n",
            "4                          0.0                        1.0           Check-Out   \n",
            "5                          0.0                        1.0           Check-Out   \n",
            "6                          0.0                        0.0           Check-Out   \n",
            "7                          0.0                        1.0           Check-Out   \n",
            "8                          0.0                        1.0            Canceled   \n",
            "9                          0.0                        0.0            Canceled   \n",
            "\n",
            "  reservation_status_date  \n",
            "0              2015-07-01  \n",
            "1              2015-07-01  \n",
            "2              2015-07-02  \n",
            "3              2015-07-02  \n",
            "4              2015-07-03  \n",
            "5              2015-07-03  \n",
            "6              2015-07-03  \n",
            "7              2015-07-03  \n",
            "8              2015-05-06  \n",
            "9              2015-04-22  \n",
            "\n",
            "[10 rows x 32 columns]\n"
          ]
        }
      ]
    },
    {
      "cell_type": "markdown",
      "source": [
        "Basic Statical Summary"
      ],
      "metadata": {
        "id": "B686bk2to_GA"
      }
    },
    {
      "cell_type": "code",
      "source": [
        "display(hotel_booking.describe(include='all'))"
      ],
      "metadata": {
        "colab": {
          "base_uri": "https://localhost:8080/",
          "height": 461
        },
        "id": "eJAr3CPupCNp",
        "outputId": "dce5037f-8433-4517-a48b-268edb8ade01"
      },
      "execution_count": 7,
      "outputs": [
        {
          "output_type": "display_data",
          "data": {
            "text/plain": [
              "               hotel   is_canceled     lead_time  arrival_date_year  \\\n",
              "count          21950  21950.000000  21950.000000       21950.000000   \n",
              "unique             1           NaN           NaN                NaN   \n",
              "top     Resort Hotel           NaN           NaN                NaN   \n",
              "freq           21950           NaN           NaN                NaN   \n",
              "mean             NaN      0.505011    101.529977        2015.829066   \n",
              "std              NaN      0.499986    101.082346           0.746540   \n",
              "min              NaN      0.000000      0.000000        2015.000000   \n",
              "25%              NaN      0.000000     15.000000        2015.000000   \n",
              "50%              NaN      1.000000     69.000000        2016.000000   \n",
              "75%              NaN      1.000000    168.000000        2016.000000   \n",
              "max              NaN      1.000000    737.000000        2017.000000   \n",
              "\n",
              "       arrival_date_month  arrival_date_week_number  \\\n",
              "count               21950              21950.000000   \n",
              "unique                 12                       NaN   \n",
              "top                August                       NaN   \n",
              "freq                 2771                       NaN   \n",
              "mean                  NaN                 28.522551   \n",
              "std                   NaN                 14.328740   \n",
              "min                   NaN                  1.000000   \n",
              "25%                   NaN                 16.000000   \n",
              "50%                   NaN                 30.000000   \n",
              "75%                   NaN                 40.000000   \n",
              "max                   NaN                 53.000000   \n",
              "\n",
              "        arrival_date_day_of_month  stays_in_weekend_nights  \\\n",
              "count                21950.000000             21950.000000   \n",
              "unique                        NaN                      NaN   \n",
              "top                           NaN                      NaN   \n",
              "freq                          NaN                      NaN   \n",
              "mean                    15.629157                 1.190524   \n",
              "std                      8.929175                 1.156315   \n",
              "min                      1.000000                 0.000000   \n",
              "25%                      8.000000                 0.000000   \n",
              "50%                     16.000000                 1.000000   \n",
              "75%                     24.000000                 2.000000   \n",
              "max                     31.000000                19.000000   \n",
              "\n",
              "        stays_in_week_nights        adults  ...  deposit_type         agent  \\\n",
              "count           21950.000000  21950.000000  ...         21950  17311.000000   \n",
              "unique                   NaN           NaN  ...             3           NaN   \n",
              "top                      NaN           NaN  ...    No Deposit           NaN   \n",
              "freq                     NaN           NaN  ...         20164           NaN   \n",
              "mean                3.171025      1.867426  ...           NaN    214.659927   \n",
              "std                 2.475503      0.849090  ...           NaN     84.537603   \n",
              "min                 0.000000      0.000000  ...           NaN      1.000000   \n",
              "25%                 1.000000      2.000000  ...           NaN    208.000000   \n",
              "50%                 3.000000      2.000000  ...           NaN    240.000000   \n",
              "75%                 5.000000      2.000000  ...           NaN    241.000000   \n",
              "max                50.000000     55.000000  ...           NaN    531.000000   \n",
              "\n",
              "            company days_in_waiting_list customer_type           adr  \\\n",
              "count   1842.000000         21950.000000         21950  21949.000000   \n",
              "unique          NaN                  NaN             5           NaN   \n",
              "top             NaN                  NaN     Transient           NaN   \n",
              "freq            NaN                  NaN         17121           NaN   \n",
              "mean     218.204126             0.718360           NaN     91.686536   \n",
              "std      110.071344             8.567604           NaN     59.621463   \n",
              "min        9.000000             0.000000           NaN     -6.380000   \n",
              "25%      135.000000             0.000000           NaN     48.000000   \n",
              "50%      223.000000             0.000000           NaN     73.000000   \n",
              "75%      281.000000             0.000000           NaN    120.600000   \n",
              "max      543.000000           150.000000           NaN    508.000000   \n",
              "\n",
              "        required_car_parking_spaces  total_of_special_requests  \\\n",
              "count                  21949.000000               21949.000000   \n",
              "unique                          NaN                        NaN   \n",
              "top                             NaN                        NaN   \n",
              "freq                            NaN                        NaN   \n",
              "mean                       0.091303                   0.542530   \n",
              "std                        0.289151                   0.787047   \n",
              "min                        0.000000                   0.000000   \n",
              "25%                        0.000000                   0.000000   \n",
              "50%                        0.000000                   0.000000   \n",
              "75%                        0.000000                   1.000000   \n",
              "max                        2.000000                   5.000000   \n",
              "\n",
              "        reservation_status reservation_status_date  \n",
              "count                21949                   21949  \n",
              "unique                   3                     901  \n",
              "top              Check-Out              2016-02-09  \n",
              "freq                 10864                     145  \n",
              "mean                   NaN                     NaN  \n",
              "std                    NaN                     NaN  \n",
              "min                    NaN                     NaN  \n",
              "25%                    NaN                     NaN  \n",
              "50%                    NaN                     NaN  \n",
              "75%                    NaN                     NaN  \n",
              "max                    NaN                     NaN  \n",
              "\n",
              "[11 rows x 32 columns]"
            ],
            "text/html": [
              "\n",
              "  <div id=\"df-bffa9856-ec5c-4f20-b5f9-b618fc12ca18\" class=\"colab-df-container\">\n",
              "    <div>\n",
              "<style scoped>\n",
              "    .dataframe tbody tr th:only-of-type {\n",
              "        vertical-align: middle;\n",
              "    }\n",
              "\n",
              "    .dataframe tbody tr th {\n",
              "        vertical-align: top;\n",
              "    }\n",
              "\n",
              "    .dataframe thead th {\n",
              "        text-align: right;\n",
              "    }\n",
              "</style>\n",
              "<table border=\"1\" class=\"dataframe\">\n",
              "  <thead>\n",
              "    <tr style=\"text-align: right;\">\n",
              "      <th></th>\n",
              "      <th>hotel</th>\n",
              "      <th>is_canceled</th>\n",
              "      <th>lead_time</th>\n",
              "      <th>arrival_date_year</th>\n",
              "      <th>arrival_date_month</th>\n",
              "      <th>arrival_date_week_number</th>\n",
              "      <th>arrival_date_day_of_month</th>\n",
              "      <th>stays_in_weekend_nights</th>\n",
              "      <th>stays_in_week_nights</th>\n",
              "      <th>adults</th>\n",
              "      <th>...</th>\n",
              "      <th>deposit_type</th>\n",
              "      <th>agent</th>\n",
              "      <th>company</th>\n",
              "      <th>days_in_waiting_list</th>\n",
              "      <th>customer_type</th>\n",
              "      <th>adr</th>\n",
              "      <th>required_car_parking_spaces</th>\n",
              "      <th>total_of_special_requests</th>\n",
              "      <th>reservation_status</th>\n",
              "      <th>reservation_status_date</th>\n",
              "    </tr>\n",
              "  </thead>\n",
              "  <tbody>\n",
              "    <tr>\n",
              "      <th>count</th>\n",
              "      <td>21950</td>\n",
              "      <td>21950.000000</td>\n",
              "      <td>21950.000000</td>\n",
              "      <td>21950.000000</td>\n",
              "      <td>21950</td>\n",
              "      <td>21950.000000</td>\n",
              "      <td>21950.000000</td>\n",
              "      <td>21950.000000</td>\n",
              "      <td>21950.000000</td>\n",
              "      <td>21950.000000</td>\n",
              "      <td>...</td>\n",
              "      <td>21950</td>\n",
              "      <td>17311.000000</td>\n",
              "      <td>1842.000000</td>\n",
              "      <td>21950.000000</td>\n",
              "      <td>21950</td>\n",
              "      <td>21949.000000</td>\n",
              "      <td>21949.000000</td>\n",
              "      <td>21949.000000</td>\n",
              "      <td>21949</td>\n",
              "      <td>21949</td>\n",
              "    </tr>\n",
              "    <tr>\n",
              "      <th>unique</th>\n",
              "      <td>1</td>\n",
              "      <td>NaN</td>\n",
              "      <td>NaN</td>\n",
              "      <td>NaN</td>\n",
              "      <td>12</td>\n",
              "      <td>NaN</td>\n",
              "      <td>NaN</td>\n",
              "      <td>NaN</td>\n",
              "      <td>NaN</td>\n",
              "      <td>NaN</td>\n",
              "      <td>...</td>\n",
              "      <td>3</td>\n",
              "      <td>NaN</td>\n",
              "      <td>NaN</td>\n",
              "      <td>NaN</td>\n",
              "      <td>5</td>\n",
              "      <td>NaN</td>\n",
              "      <td>NaN</td>\n",
              "      <td>NaN</td>\n",
              "      <td>3</td>\n",
              "      <td>901</td>\n",
              "    </tr>\n",
              "    <tr>\n",
              "      <th>top</th>\n",
              "      <td>Resort Hotel</td>\n",
              "      <td>NaN</td>\n",
              "      <td>NaN</td>\n",
              "      <td>NaN</td>\n",
              "      <td>August</td>\n",
              "      <td>NaN</td>\n",
              "      <td>NaN</td>\n",
              "      <td>NaN</td>\n",
              "      <td>NaN</td>\n",
              "      <td>NaN</td>\n",
              "      <td>...</td>\n",
              "      <td>No Deposit</td>\n",
              "      <td>NaN</td>\n",
              "      <td>NaN</td>\n",
              "      <td>NaN</td>\n",
              "      <td>Transient</td>\n",
              "      <td>NaN</td>\n",
              "      <td>NaN</td>\n",
              "      <td>NaN</td>\n",
              "      <td>Check-Out</td>\n",
              "      <td>2016-02-09</td>\n",
              "    </tr>\n",
              "    <tr>\n",
              "      <th>freq</th>\n",
              "      <td>21950</td>\n",
              "      <td>NaN</td>\n",
              "      <td>NaN</td>\n",
              "      <td>NaN</td>\n",
              "      <td>2771</td>\n",
              "      <td>NaN</td>\n",
              "      <td>NaN</td>\n",
              "      <td>NaN</td>\n",
              "      <td>NaN</td>\n",
              "      <td>NaN</td>\n",
              "      <td>...</td>\n",
              "      <td>20164</td>\n",
              "      <td>NaN</td>\n",
              "      <td>NaN</td>\n",
              "      <td>NaN</td>\n",
              "      <td>17121</td>\n",
              "      <td>NaN</td>\n",
              "      <td>NaN</td>\n",
              "      <td>NaN</td>\n",
              "      <td>10864</td>\n",
              "      <td>145</td>\n",
              "    </tr>\n",
              "    <tr>\n",
              "      <th>mean</th>\n",
              "      <td>NaN</td>\n",
              "      <td>0.505011</td>\n",
              "      <td>101.529977</td>\n",
              "      <td>2015.829066</td>\n",
              "      <td>NaN</td>\n",
              "      <td>28.522551</td>\n",
              "      <td>15.629157</td>\n",
              "      <td>1.190524</td>\n",
              "      <td>3.171025</td>\n",
              "      <td>1.867426</td>\n",
              "      <td>...</td>\n",
              "      <td>NaN</td>\n",
              "      <td>214.659927</td>\n",
              "      <td>218.204126</td>\n",
              "      <td>0.718360</td>\n",
              "      <td>NaN</td>\n",
              "      <td>91.686536</td>\n",
              "      <td>0.091303</td>\n",
              "      <td>0.542530</td>\n",
              "      <td>NaN</td>\n",
              "      <td>NaN</td>\n",
              "    </tr>\n",
              "    <tr>\n",
              "      <th>std</th>\n",
              "      <td>NaN</td>\n",
              "      <td>0.499986</td>\n",
              "      <td>101.082346</td>\n",
              "      <td>0.746540</td>\n",
              "      <td>NaN</td>\n",
              "      <td>14.328740</td>\n",
              "      <td>8.929175</td>\n",
              "      <td>1.156315</td>\n",
              "      <td>2.475503</td>\n",
              "      <td>0.849090</td>\n",
              "      <td>...</td>\n",
              "      <td>NaN</td>\n",
              "      <td>84.537603</td>\n",
              "      <td>110.071344</td>\n",
              "      <td>8.567604</td>\n",
              "      <td>NaN</td>\n",
              "      <td>59.621463</td>\n",
              "      <td>0.289151</td>\n",
              "      <td>0.787047</td>\n",
              "      <td>NaN</td>\n",
              "      <td>NaN</td>\n",
              "    </tr>\n",
              "    <tr>\n",
              "      <th>min</th>\n",
              "      <td>NaN</td>\n",
              "      <td>0.000000</td>\n",
              "      <td>0.000000</td>\n",
              "      <td>2015.000000</td>\n",
              "      <td>NaN</td>\n",
              "      <td>1.000000</td>\n",
              "      <td>1.000000</td>\n",
              "      <td>0.000000</td>\n",
              "      <td>0.000000</td>\n",
              "      <td>0.000000</td>\n",
              "      <td>...</td>\n",
              "      <td>NaN</td>\n",
              "      <td>1.000000</td>\n",
              "      <td>9.000000</td>\n",
              "      <td>0.000000</td>\n",
              "      <td>NaN</td>\n",
              "      <td>-6.380000</td>\n",
              "      <td>0.000000</td>\n",
              "      <td>0.000000</td>\n",
              "      <td>NaN</td>\n",
              "      <td>NaN</td>\n",
              "    </tr>\n",
              "    <tr>\n",
              "      <th>25%</th>\n",
              "      <td>NaN</td>\n",
              "      <td>0.000000</td>\n",
              "      <td>15.000000</td>\n",
              "      <td>2015.000000</td>\n",
              "      <td>NaN</td>\n",
              "      <td>16.000000</td>\n",
              "      <td>8.000000</td>\n",
              "      <td>0.000000</td>\n",
              "      <td>1.000000</td>\n",
              "      <td>2.000000</td>\n",
              "      <td>...</td>\n",
              "      <td>NaN</td>\n",
              "      <td>208.000000</td>\n",
              "      <td>135.000000</td>\n",
              "      <td>0.000000</td>\n",
              "      <td>NaN</td>\n",
              "      <td>48.000000</td>\n",
              "      <td>0.000000</td>\n",
              "      <td>0.000000</td>\n",
              "      <td>NaN</td>\n",
              "      <td>NaN</td>\n",
              "    </tr>\n",
              "    <tr>\n",
              "      <th>50%</th>\n",
              "      <td>NaN</td>\n",
              "      <td>1.000000</td>\n",
              "      <td>69.000000</td>\n",
              "      <td>2016.000000</td>\n",
              "      <td>NaN</td>\n",
              "      <td>30.000000</td>\n",
              "      <td>16.000000</td>\n",
              "      <td>1.000000</td>\n",
              "      <td>3.000000</td>\n",
              "      <td>2.000000</td>\n",
              "      <td>...</td>\n",
              "      <td>NaN</td>\n",
              "      <td>240.000000</td>\n",
              "      <td>223.000000</td>\n",
              "      <td>0.000000</td>\n",
              "      <td>NaN</td>\n",
              "      <td>73.000000</td>\n",
              "      <td>0.000000</td>\n",
              "      <td>0.000000</td>\n",
              "      <td>NaN</td>\n",
              "      <td>NaN</td>\n",
              "    </tr>\n",
              "    <tr>\n",
              "      <th>75%</th>\n",
              "      <td>NaN</td>\n",
              "      <td>1.000000</td>\n",
              "      <td>168.000000</td>\n",
              "      <td>2016.000000</td>\n",
              "      <td>NaN</td>\n",
              "      <td>40.000000</td>\n",
              "      <td>24.000000</td>\n",
              "      <td>2.000000</td>\n",
              "      <td>5.000000</td>\n",
              "      <td>2.000000</td>\n",
              "      <td>...</td>\n",
              "      <td>NaN</td>\n",
              "      <td>241.000000</td>\n",
              "      <td>281.000000</td>\n",
              "      <td>0.000000</td>\n",
              "      <td>NaN</td>\n",
              "      <td>120.600000</td>\n",
              "      <td>0.000000</td>\n",
              "      <td>1.000000</td>\n",
              "      <td>NaN</td>\n",
              "      <td>NaN</td>\n",
              "    </tr>\n",
              "    <tr>\n",
              "      <th>max</th>\n",
              "      <td>NaN</td>\n",
              "      <td>1.000000</td>\n",
              "      <td>737.000000</td>\n",
              "      <td>2017.000000</td>\n",
              "      <td>NaN</td>\n",
              "      <td>53.000000</td>\n",
              "      <td>31.000000</td>\n",
              "      <td>19.000000</td>\n",
              "      <td>50.000000</td>\n",
              "      <td>55.000000</td>\n",
              "      <td>...</td>\n",
              "      <td>NaN</td>\n",
              "      <td>531.000000</td>\n",
              "      <td>543.000000</td>\n",
              "      <td>150.000000</td>\n",
              "      <td>NaN</td>\n",
              "      <td>508.000000</td>\n",
              "      <td>2.000000</td>\n",
              "      <td>5.000000</td>\n",
              "      <td>NaN</td>\n",
              "      <td>NaN</td>\n",
              "    </tr>\n",
              "  </tbody>\n",
              "</table>\n",
              "<p>11 rows × 32 columns</p>\n",
              "</div>\n",
              "    <div class=\"colab-df-buttons\">\n",
              "\n",
              "  <div class=\"colab-df-container\">\n",
              "    <button class=\"colab-df-convert\" onclick=\"convertToInteractive('df-bffa9856-ec5c-4f20-b5f9-b618fc12ca18')\"\n",
              "            title=\"Convert this dataframe to an interactive table.\"\n",
              "            style=\"display:none;\">\n",
              "\n",
              "  <svg xmlns=\"http://www.w3.org/2000/svg\" height=\"24px\" viewBox=\"0 -960 960 960\">\n",
              "    <path d=\"M120-120v-720h720v720H120Zm60-500h600v-160H180v160Zm220 220h160v-160H400v160Zm0 220h160v-160H400v160ZM180-400h160v-160H180v160Zm440 0h160v-160H620v160ZM180-180h160v-160H180v160Zm440 0h160v-160H620v160Z\"/>\n",
              "  </svg>\n",
              "    </button>\n",
              "\n",
              "  <style>\n",
              "    .colab-df-container {\n",
              "      display:flex;\n",
              "      gap: 12px;\n",
              "    }\n",
              "\n",
              "    .colab-df-convert {\n",
              "      background-color: #E8F0FE;\n",
              "      border: none;\n",
              "      border-radius: 50%;\n",
              "      cursor: pointer;\n",
              "      display: none;\n",
              "      fill: #1967D2;\n",
              "      height: 32px;\n",
              "      padding: 0 0 0 0;\n",
              "      width: 32px;\n",
              "    }\n",
              "\n",
              "    .colab-df-convert:hover {\n",
              "      background-color: #E2EBFA;\n",
              "      box-shadow: 0px 1px 2px rgba(60, 64, 67, 0.3), 0px 1px 3px 1px rgba(60, 64, 67, 0.15);\n",
              "      fill: #174EA6;\n",
              "    }\n",
              "\n",
              "    .colab-df-buttons div {\n",
              "      margin-bottom: 4px;\n",
              "    }\n",
              "\n",
              "    [theme=dark] .colab-df-convert {\n",
              "      background-color: #3B4455;\n",
              "      fill: #D2E3FC;\n",
              "    }\n",
              "\n",
              "    [theme=dark] .colab-df-convert:hover {\n",
              "      background-color: #434B5C;\n",
              "      box-shadow: 0px 1px 3px 1px rgba(0, 0, 0, 0.15);\n",
              "      filter: drop-shadow(0px 1px 2px rgba(0, 0, 0, 0.3));\n",
              "      fill: #FFFFFF;\n",
              "    }\n",
              "  </style>\n",
              "\n",
              "    <script>\n",
              "      const buttonEl =\n",
              "        document.querySelector('#df-bffa9856-ec5c-4f20-b5f9-b618fc12ca18 button.colab-df-convert');\n",
              "      buttonEl.style.display =\n",
              "        google.colab.kernel.accessAllowed ? 'block' : 'none';\n",
              "\n",
              "      async function convertToInteractive(key) {\n",
              "        const element = document.querySelector('#df-bffa9856-ec5c-4f20-b5f9-b618fc12ca18');\n",
              "        const dataTable =\n",
              "          await google.colab.kernel.invokeFunction('convertToInteractive',\n",
              "                                                    [key], {});\n",
              "        if (!dataTable) return;\n",
              "\n",
              "        const docLinkHtml = 'Like what you see? Visit the ' +\n",
              "          '<a target=\"_blank\" href=https://colab.research.google.com/notebooks/data_table.ipynb>data table notebook</a>'\n",
              "          + ' to learn more about interactive tables.';\n",
              "        element.innerHTML = '';\n",
              "        dataTable['output_type'] = 'display_data';\n",
              "        await google.colab.output.renderOutput(dataTable, element);\n",
              "        const docLink = document.createElement('div');\n",
              "        docLink.innerHTML = docLinkHtml;\n",
              "        element.appendChild(docLink);\n",
              "      }\n",
              "    </script>\n",
              "  </div>\n",
              "\n",
              "\n",
              "    <div id=\"df-98a056dc-ecc1-47a1-83d3-7d5e62f75841\">\n",
              "      <button class=\"colab-df-quickchart\" onclick=\"quickchart('df-98a056dc-ecc1-47a1-83d3-7d5e62f75841')\"\n",
              "                title=\"Suggest charts\"\n",
              "                style=\"display:none;\">\n",
              "\n",
              "<svg xmlns=\"http://www.w3.org/2000/svg\" height=\"24px\"viewBox=\"0 0 24 24\"\n",
              "     width=\"24px\">\n",
              "    <g>\n",
              "        <path d=\"M19 3H5c-1.1 0-2 .9-2 2v14c0 1.1.9 2 2 2h14c1.1 0 2-.9 2-2V5c0-1.1-.9-2-2-2zM9 17H7v-7h2v7zm4 0h-2V7h2v10zm4 0h-2v-4h2v4z\"/>\n",
              "    </g>\n",
              "</svg>\n",
              "      </button>\n",
              "\n",
              "<style>\n",
              "  .colab-df-quickchart {\n",
              "      --bg-color: #E8F0FE;\n",
              "      --fill-color: #1967D2;\n",
              "      --hover-bg-color: #E2EBFA;\n",
              "      --hover-fill-color: #174EA6;\n",
              "      --disabled-fill-color: #AAA;\n",
              "      --disabled-bg-color: #DDD;\n",
              "  }\n",
              "\n",
              "  [theme=dark] .colab-df-quickchart {\n",
              "      --bg-color: #3B4455;\n",
              "      --fill-color: #D2E3FC;\n",
              "      --hover-bg-color: #434B5C;\n",
              "      --hover-fill-color: #FFFFFF;\n",
              "      --disabled-bg-color: #3B4455;\n",
              "      --disabled-fill-color: #666;\n",
              "  }\n",
              "\n",
              "  .colab-df-quickchart {\n",
              "    background-color: var(--bg-color);\n",
              "    border: none;\n",
              "    border-radius: 50%;\n",
              "    cursor: pointer;\n",
              "    display: none;\n",
              "    fill: var(--fill-color);\n",
              "    height: 32px;\n",
              "    padding: 0;\n",
              "    width: 32px;\n",
              "  }\n",
              "\n",
              "  .colab-df-quickchart:hover {\n",
              "    background-color: var(--hover-bg-color);\n",
              "    box-shadow: 0 1px 2px rgba(60, 64, 67, 0.3), 0 1px 3px 1px rgba(60, 64, 67, 0.15);\n",
              "    fill: var(--button-hover-fill-color);\n",
              "  }\n",
              "\n",
              "  .colab-df-quickchart-complete:disabled,\n",
              "  .colab-df-quickchart-complete:disabled:hover {\n",
              "    background-color: var(--disabled-bg-color);\n",
              "    fill: var(--disabled-fill-color);\n",
              "    box-shadow: none;\n",
              "  }\n",
              "\n",
              "  .colab-df-spinner {\n",
              "    border: 2px solid var(--fill-color);\n",
              "    border-color: transparent;\n",
              "    border-bottom-color: var(--fill-color);\n",
              "    animation:\n",
              "      spin 1s steps(1) infinite;\n",
              "  }\n",
              "\n",
              "  @keyframes spin {\n",
              "    0% {\n",
              "      border-color: transparent;\n",
              "      border-bottom-color: var(--fill-color);\n",
              "      border-left-color: var(--fill-color);\n",
              "    }\n",
              "    20% {\n",
              "      border-color: transparent;\n",
              "      border-left-color: var(--fill-color);\n",
              "      border-top-color: var(--fill-color);\n",
              "    }\n",
              "    30% {\n",
              "      border-color: transparent;\n",
              "      border-left-color: var(--fill-color);\n",
              "      border-top-color: var(--fill-color);\n",
              "      border-right-color: var(--fill-color);\n",
              "    }\n",
              "    40% {\n",
              "      border-color: transparent;\n",
              "      border-right-color: var(--fill-color);\n",
              "      border-top-color: var(--fill-color);\n",
              "    }\n",
              "    60% {\n",
              "      border-color: transparent;\n",
              "      border-right-color: var(--fill-color);\n",
              "    }\n",
              "    80% {\n",
              "      border-color: transparent;\n",
              "      border-right-color: var(--fill-color);\n",
              "      border-bottom-color: var(--fill-color);\n",
              "    }\n",
              "    90% {\n",
              "      border-color: transparent;\n",
              "      border-bottom-color: var(--fill-color);\n",
              "    }\n",
              "  }\n",
              "</style>\n",
              "\n",
              "      <script>\n",
              "        async function quickchart(key) {\n",
              "          const quickchartButtonEl =\n",
              "            document.querySelector('#' + key + ' button');\n",
              "          quickchartButtonEl.disabled = true;  // To prevent multiple clicks.\n",
              "          quickchartButtonEl.classList.add('colab-df-spinner');\n",
              "          try {\n",
              "            const charts = await google.colab.kernel.invokeFunction(\n",
              "                'suggestCharts', [key], {});\n",
              "          } catch (error) {\n",
              "            console.error('Error during call to suggestCharts:', error);\n",
              "          }\n",
              "          quickchartButtonEl.classList.remove('colab-df-spinner');\n",
              "          quickchartButtonEl.classList.add('colab-df-quickchart-complete');\n",
              "        }\n",
              "        (() => {\n",
              "          let quickchartButtonEl =\n",
              "            document.querySelector('#df-98a056dc-ecc1-47a1-83d3-7d5e62f75841 button');\n",
              "          quickchartButtonEl.style.display =\n",
              "            google.colab.kernel.accessAllowed ? 'block' : 'none';\n",
              "        })();\n",
              "      </script>\n",
              "    </div>\n",
              "\n",
              "    </div>\n",
              "  </div>\n"
            ],
            "application/vnd.google.colaboratory.intrinsic+json": {
              "type": "dataframe"
            }
          },
          "metadata": {}
        }
      ]
    },
    {
      "cell_type": "markdown",
      "source": [
        "**Task 1.2: Missing Value Analysis**\n"
      ],
      "metadata": {
        "id": "Rc_t89fmzeT2"
      }
    },
    {
      "cell_type": "markdown",
      "source": [
        " Identify all columns with missing values & Calculate the percentage of missing values for each column"
      ],
      "metadata": {
        "id": "UEELzQCnpOCQ"
      }
    },
    {
      "cell_type": "code",
      "source": [
        "print(\"Missing Values Summary:\")\n",
        "missing_data = hotel_booking.isnull().sum()\n",
        "missing_percent = (missing_data / len(hotel_booking)) * 100\n",
        "missing_summary = pd.DataFrame({\n",
        "    'Missing_Count': missing_data,\n",
        "    'Missing_Percentage': missing_percent\n",
        "}).sort_values('Missing_Count', ascending=False)\n",
        "print(missing_summary[missing_summary['Missing_Count'] > 0])"
      ],
      "metadata": {
        "colab": {
          "base_uri": "https://localhost:8080/"
        },
        "id": "62J_jCOapThR",
        "outputId": "7c225779-de3b-429f-d1ec-465e151cb904"
      },
      "execution_count": 8,
      "outputs": [
        {
          "output_type": "stream",
          "name": "stdout",
          "text": [
            "Missing Values Summary:\n",
            "                             Missing_Count  Missing_Percentage\n",
            "company                              20108           91.608200\n",
            "agent                                 4639           21.134396\n",
            "country                                455            2.072893\n",
            "adr                                      1            0.004556\n",
            "total_of_special_requests                1            0.004556\n",
            "reservation_status_date                  1            0.004556\n",
            "reservation_status                       1            0.004556\n",
            "required_car_parking_spaces              1            0.004556\n"
          ]
        }
      ]
    },
    {
      "cell_type": "markdown",
      "source": [
        "Visualise missing value patterns using a heatmap"
      ],
      "metadata": {
        "id": "SNod70zRrmAH"
      }
    },
    {
      "cell_type": "code",
      "source": [
        "import matplotlib.pyplot as plt\n",
        "plt.figure(figsize=(10, 6))\n",
        "sns.heatmap(hotel_booking.isnull(), cbar=True, yticklabels=False, cmap='viridis')\n",
        "plt.title('Missing Data Heatmap')\n",
        "plt.show()"
      ],
      "metadata": {
        "colab": {
          "base_uri": "https://localhost:8080/",
          "height": 759
        },
        "id": "LkMPU-Qypkco",
        "outputId": "d722dd95-0db2-4ef4-fef9-c3aa7c72469b"
      },
      "execution_count": 9,
      "outputs": [
        {
          "output_type": "display_data",
          "data": {
            "text/plain": [
              "<Figure size 1000x600 with 2 Axes>"
            ],
            "image/png": "[encoded data removed]"
          },
          "metadata": {}
        }
      ]
    },
    {
      "cell_type": "markdown",
      "source": [
        "Analyze missing value patterns using a heatmap"
      ],
      "metadata": {
        "id": "q8kjN4_OroqY"
      }
    },
    {
      "cell_type": "code",
      "source": [
        "def analyze_missing_patterns(df):\n",
        "    \"\"\"\n",
        "    Analyze patterns of missing data to understand the mechanism\n",
        "    \"\"\"\n",
        "    missing_data = df.isnull().sum()\n",
        "    missing_percent = (missing_data / len(df)) * 100\n",
        "\n",
        "    missing_table = pd.DataFrame({\n",
        "        'Missing_Count': missing_data,\n",
        "        'Missing_Percentage': missing_percent\n",
        "    }).sort_values('Missing_Count', ascending=False)\n",
        "\n",
        "    print(\"Missing Data Summary:\")\n",
        "    print(missing_table[missing_table['Missing_Count'] > 0])\n",
        "\n",
        "    # Check if missing data is correlated\n",
        "    print(\"\\nMissing Data Correlation:\")\n",
        "    missing_corr = df.isnull().corr()\n",
        "    print(missing_corr.stack()[missing_corr.abs().stack() > 0.1])\n",
        "\n",
        "    return missing_table\n",
        "\n",
        "missing_summary = analyze_missing_patterns(hotel_booking)"
      ],
      "metadata": {
        "colab": {
          "base_uri": "https://localhost:8080/"
        },
        "id": "TaalHj9srcCg",
        "outputId": "4f2d57c6-dc92-4116-aef9-e6b75e4be9a4"
      },
      "execution_count": 10,
      "outputs": [
        {
          "output_type": "stream",
          "name": "stdout",
          "text": [
            "Missing Data Summary:\n",
            "                             Missing_Count  Missing_Percentage\n",
            "company                              20108           91.608200\n",
            "agent                                 4639           21.134396\n",
            "country                                455            2.072893\n",
            "adr                                      1            0.004556\n",
            "total_of_special_requests                1            0.004556\n",
            "reservation_status_date                  1            0.004556\n",
            "reservation_status                       1            0.004556\n",
            "required_car_parking_spaces              1            0.004556\n",
            "\n",
            "Missing Data Correlation:\n",
            "country                      country                        1.000000\n",
            "                             agent                          0.172966\n",
            "                             company                       -0.142795\n",
            "agent                        country                        0.172966\n",
            "                             agent                          1.000000\n",
            "                             company                       -0.525908\n",
            "company                      country                       -0.142795\n",
            "                             agent                         -0.525908\n",
            "                             company                        1.000000\n",
            "adr                          adr                            1.000000\n",
            "                             required_car_parking_spaces    1.000000\n",
            "                             total_of_special_requests      1.000000\n",
            "                             reservation_status             1.000000\n",
            "                             reservation_status_date        1.000000\n",
            "required_car_parking_spaces  adr                            1.000000\n",
            "                             required_car_parking_spaces    1.000000\n",
            "                             total_of_special_requests      1.000000\n",
            "                             reservation_status             1.000000\n",
            "                             reservation_status_date        1.000000\n",
            "total_of_special_requests    adr                            1.000000\n",
            "                             required_car_parking_spaces    1.000000\n",
            "                             total_of_special_requests      1.000000\n",
            "                             reservation_status             1.000000\n",
            "                             reservation_status_date        1.000000\n",
            "reservation_status           adr                            1.000000\n",
            "                             required_car_parking_spaces    1.000000\n",
            "                             total_of_special_requests      1.000000\n",
            "                             reservation_status             1.000000\n",
            "                             reservation_status_date        1.000000\n",
            "reservation_status_date      adr                            1.000000\n",
            "                             required_car_parking_spaces    1.000000\n",
            "                             total_of_special_requests      1.000000\n",
            "                             reservation_status             1.000000\n",
            "                             reservation_status_date        1.000000\n",
            "dtype: float64\n"
          ]
        }
      ]
    },
    {
      "cell_type": "markdown",
      "source": [
        "**Task 1.3: Data Quality Assessment**"
      ],
      "metadata": {
        "id": "ggTblG0Uz2sL"
      }
    },
    {
      "cell_type": "markdown",
      "source": [
        "Check duplicate records"
      ],
      "metadata": {
        "id": "uCfsmtLWsJQH"
      }
    },
    {
      "cell_type": "code",
      "source": [
        "print(f\"\\nDuplicate Records: {hotel_booking.duplicated().sum()}\")\n",
        "\n"
      ],
      "metadata": {
        "colab": {
          "base_uri": "https://localhost:8080/"
        },
        "id": "b2Rcoh5nsOU_",
        "outputId": "603cc330-51a2-4273-986a-0d94bb464441"
      },
      "execution_count": 11,
      "outputs": [
        {
          "output_type": "stream",
          "name": "stdout",
          "text": [
            "\n",
            "Duplicate Records: 4433\n"
          ]
        }
      ]
    },
    {
      "cell_type": "markdown",
      "source": [
        "Identify potential outliers in numerical columns\n"
      ],
      "metadata": {
        "id": "4hf8WhZysULu"
      }
    },
    {
      "cell_type": "code",
      "source": [
        "print(\"\\nNumerical Columns Summary:\")\n",
        "numerical_cols = hotel_booking.select_dtypes(include=[np.number]).columns\n",
        "print(hotel_booking[numerical_cols].describe())"
      ],
      "metadata": {
        "colab": {
          "base_uri": "https://localhost:8080/"
        },
        "id": "VkkNM7_qsVNn",
        "outputId": "a8568832-520f-4426-f65f-4a126e1348ea"
      },
      "execution_count": 12,
      "outputs": [
        {
          "output_type": "stream",
          "name": "stdout",
          "text": [
            "\n",
            "Numerical Columns Summary:\n",
            "        is_canceled     lead_time  arrival_date_year  \\\n",
            "count  21950.000000  21950.000000       21950.000000   \n",
            "mean       0.505011    101.529977        2015.829066   \n",
            "std        0.499986    101.082346           0.746540   \n",
            "min        0.000000      0.000000        2015.000000   \n",
            "25%        0.000000     15.000000        2015.000000   \n",
            "50%        1.000000     69.000000        2016.000000   \n",
            "75%        1.000000    168.000000        2016.000000   \n",
            "max        1.000000    737.000000        2017.000000   \n",
            "\n",
            "       arrival_date_week_number  arrival_date_day_of_month  \\\n",
            "count              21950.000000               21950.000000   \n",
            "mean                  28.522551                  15.629157   \n",
            "std                   14.328740                   8.929175   \n",
            "min                    1.000000                   1.000000   \n",
            "25%                   16.000000                   8.000000   \n",
            "50%                   30.000000                  16.000000   \n",
            "75%                   40.000000                  24.000000   \n",
            "max                   53.000000                  31.000000   \n",
            "\n",
            "       stays_in_weekend_nights  stays_in_week_nights        adults  \\\n",
            "count             21950.000000          21950.000000  21950.000000   \n",
            "mean                  1.190524              3.171025      1.867426   \n",
            "std                   1.156315              2.475503      0.849090   \n",
            "min                   0.000000              0.000000      0.000000   \n",
            "25%                   0.000000              1.000000      2.000000   \n",
            "50%                   1.000000              3.000000      2.000000   \n",
            "75%                   2.000000              5.000000      2.000000   \n",
            "max                  19.000000             50.000000     55.000000   \n",
            "\n",
            "           children        babies  is_repeated_guest  previous_cancellations  \\\n",
            "count  21950.000000  21950.000000       21950.000000            21950.000000   \n",
            "mean       0.133804      0.011800           0.048200                0.182916   \n",
            "std        0.460179      0.110075           0.214194                1.797490   \n",
            "min        0.000000      0.000000           0.000000                0.000000   \n",
            "25%        0.000000      0.000000           0.000000                0.000000   \n",
            "50%        0.000000      0.000000           0.000000                0.000000   \n",
            "75%        0.000000      0.000000           0.000000                0.000000   \n",
            "max       10.000000      2.000000           1.000000               26.000000   \n",
            "\n",
            "       previous_bookings_not_canceled  booking_changes         agent  \\\n",
            "count                    21950.000000     21950.000000  17311.000000   \n",
            "mean                         0.210797         0.233440    214.659927   \n",
            "std                          1.253500         0.638202     84.537603   \n",
            "min                          0.000000         0.000000      1.000000   \n",
            "25%                          0.000000         0.000000    208.000000   \n",
            "50%                          0.000000         0.000000    240.000000   \n",
            "75%                          0.000000         0.000000    241.000000   \n",
            "max                         30.000000        17.000000    531.000000   \n",
            "\n",
            "           company  days_in_waiting_list           adr  \\\n",
            "count  1842.000000          21950.000000  21949.000000   \n",
            "mean    218.204126              0.718360     91.686536   \n",
            "std     110.071344              8.567604     59.621463   \n",
            "min       9.000000              0.000000     -6.380000   \n",
            "25%     135.000000              0.000000     48.000000   \n",
            "50%     223.000000              0.000000     73.000000   \n",
            "75%     281.000000              0.000000    120.600000   \n",
            "max     543.000000            150.000000    508.000000   \n",
            "\n",
            "       required_car_parking_spaces  total_of_special_requests  \n",
            "count                 21949.000000               21949.000000  \n",
            "mean                      0.091303                   0.542530  \n",
            "std                       0.289151                   0.787047  \n",
            "min                       0.000000                   0.000000  \n",
            "25%                       0.000000                   0.000000  \n",
            "50%                       0.000000                   0.000000  \n",
            "75%                       0.000000                   1.000000  \n",
            "max                       2.000000                   5.000000  \n"
          ]
        }
      ]
    },
    {
      "cell_type": "markdown",
      "source": [
        "Examine categorical variables for inconsistencies\n"
      ],
      "metadata": {
        "id": "R4SEBmz0tDIV"
      }
    },
    {
      "cell_type": "code",
      "source": [
        "print(\"\\nCategorical Data Analysis:\")\n",
        "categorical_cols = hotel_booking.select_dtypes(include=['object']).columns\n",
        "\n",
        "for col in categorical_cols:\n",
        "    print(f\"\\n{col} - Unique Values ({hotel_booking[col].nunique()}):\")\n",
        "    value_counts = hotel_booking[col].value_counts()\n",
        "    print(value_counts)\n",
        "\n",
        "    # Check for potential inconsistencies (case sensitivity, extra spaces)\n",
        "    unique_values = hotel_booking[col].dropna().unique()\n",
        "    print(f\"  Potential issues: {[val for val in unique_values if ' ' in str(val) or str(val) != str(val).strip()]}\")\n"
      ],
      "metadata": {
        "colab": {
          "base_uri": "https://localhost:8080/"
        },
        "collapsed": true,
        "id": "K5sD_GPRtJbO",
        "outputId": "d0fe9617-3aeb-4cb7-cffd-f47c25c761f0"
      },
      "execution_count": 13,
      "outputs": [
        {
          "output_type": "stream",
          "name": "stdout",
          "text": [
            "\n",
            "Categorical Data Analysis:\n",
            "\n",
            "hotel - Unique Values (1):\n",
            "hotel\n",
            "Resort Hotel    21950\n",
            "Name: count, dtype: int64\n",
            "  Potential issues: ['Resort Hotel']\n",
            "\n",
            "arrival_date_month - Unique Values (12):\n",
            "arrival_date_month\n",
            "August       2771\n",
            "July         2626\n",
            "October      2329\n",
            "September    2252\n",
            "February     1994\n",
            "December     1689\n",
            "March        1513\n",
            "November     1462\n",
            "May          1445\n",
            "April        1445\n",
            "June         1223\n",
            "January      1201\n",
            "Name: count, dtype: int64\n",
            "  Potential issues: []\n",
            "\n",
            "meal - Unique Values (5):\n",
            "meal\n",
            "BB           16062\n",
            "HB            4613\n",
            "FB             631\n",
            "Undefined      610\n",
            "SC              34\n",
            "Name: count, dtype: int64\n",
            "  Potential issues: []\n",
            "\n",
            "country - Unique Values (102):\n",
            "country\n",
            "PRT    12109\n",
            "GBR     2728\n",
            "ESP     2140\n",
            "IRL      948\n",
            "FRA      628\n",
            "       ...  \n",
            "MUS        1\n",
            "COM        1\n",
            "SUR        1\n",
            "UGA        1\n",
            "BGR        1\n",
            "Name: count, Length: 102, dtype: int64\n",
            "  Potential issues: []\n",
            "\n",
            "market_segment - Unique Values (6):\n",
            "market_segment\n",
            "Online TA        9642\n",
            "Groups           3867\n",
            "Offline TA/TO    3781\n",
            "Direct           3031\n",
            "Corporate        1529\n",
            "Complementary     100\n",
            "Name: count, dtype: int64\n",
            "  Potential issues: ['Online TA', 'Offline TA/TO']\n",
            "\n",
            "distribution_channel - Unique Values (4):\n",
            "distribution_channel\n",
            "TA/TO        15839\n",
            "Direct        4013\n",
            "Corporate     2097\n",
            "Undefined        1\n",
            "Name: count, dtype: int64\n",
            "  Potential issues: []\n",
            "\n",
            "reserved_room_type - Unique Values (10):\n",
            "reserved_room_type\n",
            "A    13565\n",
            "D     3651\n",
            "E     2572\n",
            "G      920\n",
            "C      469\n",
            "F      435\n",
            "H      329\n",
            "L        6\n",
            "P        2\n",
            "B        1\n",
            "Name: count, dtype: int64\n",
            "  Potential issues: []\n",
            "\n",
            "assigned_room_type - Unique Values (11):\n",
            "assigned_room_type\n",
            "A    10116\n",
            "D     5448\n",
            "E     2963\n",
            "C     1062\n",
            "G     1047\n",
            "F      746\n",
            "H      390\n",
            "I      117\n",
            "B       58\n",
            "P        2\n",
            "L        1\n",
            "Name: count, dtype: int64\n",
            "  Potential issues: []\n",
            "\n",
            "deposit_type - Unique Values (3):\n",
            "deposit_type\n",
            "No Deposit    20164\n",
            "Non Refund     1700\n",
            "Refundable       86\n",
            "Name: count, dtype: int64\n",
            "  Potential issues: ['No Deposit', 'Non Refund']\n",
            "\n",
            "customer_type - Unique Values (5):\n",
            "customer_type\n",
            "Transient          17121\n",
            "Transient-Party     3904\n",
            "Contract             785\n",
            "Group                139\n",
            "Tra                    1\n",
            "Name: count, dtype: int64\n",
            "  Potential issues: []\n",
            "\n",
            "reservation_status - Unique Values (3):\n",
            "reservation_status\n",
            "Check-Out    10864\n",
            "Canceled     10804\n",
            "No-Show        281\n",
            "Name: count, dtype: int64\n",
            "  Potential issues: []\n",
            "\n",
            "reservation_status_date - Unique Values (901):\n",
            "reservation_status_date\n",
            "2016-02-09    145\n",
            "2016-02-29    129\n",
            "2015-11-15    124\n",
            "2015-12-08    115\n",
            "2016-02-14    109\n",
            "             ... \n",
            "2015-02-24      1\n",
            "2015-02-19      1\n",
            "2015-02-20      1\n",
            "2015-02-23      1\n",
            "2015-02-26      1\n",
            "Name: count, Length: 901, dtype: int64\n",
            "  Potential issues: []\n"
          ]
        }
      ]
    },
    {
      "cell_type": "markdown",
      "source": [
        "**Task 2.1: Handling Missing Values**"
      ],
      "metadata": {
        "id": "9aS-RB3e0PlO"
      }
    },
    {
      "cell_type": "markdown",
      "source": [
        "Handling Missing Values"
      ],
      "metadata": {
        "id": "C5_m8fRauxDg"
      }
    },
    {
      "cell_type": "code",
      "source": [
        "def analyze_missing_patterns(df):\n",
        "    \"\"\"\n",
        "    Analyze patterns of missing data to understand the mechanism\n",
        "    \"\"\"\n",
        "    missing_data = df.isnull().sum()\n",
        "    missing_percent = (missing_data / len(df)) * 100\n",
        "\n",
        "    missing_table = pd.DataFrame({\n",
        "        'Missing_Count': missing_data,\n",
        "        'Missing_Percentage': missing_percent\n",
        "    }).sort_values('Missing_Count', ascending=False)\n",
        "\n",
        "    print(\"Missing Data Summary:\")\n",
        "    print(missing_table[missing_table['Missing_Count'] > 0])\n",
        "\n",
        "    # Check if missing data is correlated\n",
        "    print(\"\\nMissing Data Correlation:\")\n",
        "    missing_corr = df.isnull().corr()\n",
        "\n",
        "    return missing_table\n",
        "\n",
        "missing_summary = analyze_missing_patterns(hotel_booking)\n"
      ],
      "metadata": {
        "colab": {
          "base_uri": "https://localhost:8080/"
        },
        "id": "Qa9bPqcsu3MZ",
        "outputId": "aba33b2a-7f62-44b3-82a6-28e87dbbc0bc"
      },
      "execution_count": 14,
      "outputs": [
        {
          "output_type": "stream",
          "name": "stdout",
          "text": [
            "Missing Data Summary:\n",
            "                             Missing_Count  Missing_Percentage\n",
            "company                              20108           91.608200\n",
            "agent                                 4639           21.134396\n",
            "country                                455            2.072893\n",
            "adr                                      1            0.004556\n",
            "total_of_special_requests                1            0.004556\n",
            "reservation_status_date                  1            0.004556\n",
            "reservation_status                       1            0.004556\n",
            "required_car_parking_spaces              1            0.004556\n",
            "\n",
            "Missing Data Correlation:\n"
          ]
        }
      ]
    },
    {
      "cell_type": "markdown",
      "source": [
        "**Task 2.2: Duplicate Detection and Removal**"
      ],
      "metadata": {
        "id": "GKfjBxxewrGT"
      }
    },
    {
      "cell_type": "markdown",
      "source": [
        "Identify exact duplicates"
      ],
      "metadata": {
        "id": "8hNEMSGzwtYL"
      }
    },
    {
      "cell_type": "code",
      "source": [
        "print(f\"Duplicates before: {hotel_booking.duplicated().sum()}\")\n",
        "hotel_booking = hotel_booking.drop_duplicates()\n",
        "print(f\"After: {hotel_booking.duplicated().sum()}\")"
      ],
      "metadata": {
        "colab": {
          "base_uri": "https://localhost:8080/"
        },
        "id": "8G3rOlWOwsED",
        "outputId": "459ae510-b941-4010-9abd-a4fb483c11aa"
      },
      "execution_count": 18,
      "outputs": [
        {
          "output_type": "stream",
          "name": "stdout",
          "text": [
            "Duplicates before: 4433\n",
            "After: 0\n"
          ]
        }
      ]
    },
    {
      "cell_type": "markdown",
      "source": [
        "Find near-duplicates"
      ],
      "metadata": {
        "id": "HV0C-HOow73p"
      }
    },
    {
      "cell_type": "code",
      "source": [
        "def remove_outliers_iqr(df, column):\n",
        "    Q1 = hotel_booking[column].quantile(0.25)\n",
        "    Q3 = hotel_booking[column].quantile(0.75)\n",
        "    IQR = Q3 - Q1\n",
        "    lower = Q1 - 1.5 * IQR\n",
        "    upper = Q3 + 1.5 * IQR\n",
        "    return hotel_booking[(hotel_booking[column] >= lower) & (hotel_booking[column] <= upper)]\n",
        "\n",
        "# Apply to adr\n",
        "hotel_booking = remove_outliers_iqr(hotel_booking, 'adr')"
      ],
      "metadata": {
        "id": "iIYexVzww8QB"
      },
      "execution_count": 24,
      "outputs": []
    },
    {
      "cell_type": "markdown",
      "source": [
        " Document the number of duplicates removed"
      ],
      "metadata": {
        "id": "-7tSwprmdlx8"
      }
    },
    {
      "cell_type": "code",
      "source": [
        "hotel_booking_cleaned = hotel_booking.drop_duplicates()\n",
        "print(\"Duplicates removed:\", hotel_booking.shape[0] - hotel_booking_cleaned.shape[0])"
      ],
      "metadata": {
        "colab": {
          "base_uri": "https://localhost:8080/"
        },
        "id": "4UaQPXtAxVpw",
        "outputId": "f8cc3560-cb2c-4f73-e1f4-ca473a9d7e24"
      },
      "execution_count": 31,
      "outputs": [
        {
          "output_type": "stream",
          "name": "stdout",
          "text": [
            "Duplicates removed: 0\n"
          ]
        }
      ]
    },
    {
      "cell_type": "markdown",
      "source": [
        "**Task 2.3: Outlier Detection and Treatment**"
      ],
      "metadata": {
        "id": "mTlILbCed5mL"
      }
    },
    {
      "cell_type": "markdown",
      "source": [
        "Use the IQR method for outlier detection"
      ],
      "metadata": {
        "id": "J0kOlMFad_Dl"
      }
    },
    {
      "cell_type": "code",
      "source": [
        "from scipy import stats\n",
        "\n",
        "outlier_cols = ['lead_time', 'stays_in_weekend_nights', 'stays_in_week_nights',\n",
        "                'adults', 'children', 'babies', 'adr']"
      ],
      "metadata": {
        "id": "prQqA2jkeBkN"
      },
      "execution_count": 32,
      "outputs": []
    },
    {
      "cell_type": "markdown",
      "source": [
        "Apply z-score analysis"
      ],
      "metadata": {
        "id": "upvLuUROeH1n"
      }
    },
    {
      "cell_type": "code",
      "source": [
        "Q1 = hotel_booking_cleaned['adr'].quantile(0.25)\n",
        "Q3 = hotel_booking_cleaned['adr'].quantile(0.75)\n",
        "IQR = Q3 - Q1\n",
        "lower_bound = Q1 - 1.5 * IQR\n",
        "upper_bound = Q3 + 1.5 * IQR"
      ],
      "metadata": {
        "id": "JV-KoEiBeKRX"
      },
      "execution_count": 34,
      "outputs": []
    },
    {
      "cell_type": "markdown",
      "source": [
        "Create boxplots for visualisation"
      ],
      "metadata": {
        "id": "xmMcsqJ2eVkg"
      }
    },
    {
      "cell_type": "code",
      "source": [
        "plt.figure(figsize=(8, 5))\n",
        "sns.boxplot(x=hotel_booking['adr'])\n",
        "plt.title(\"Boxplot of ADR (Before Cleaning)\")\n",
        "plt.show()"
      ],
      "metadata": {
        "colab": {
          "base_uri": "https://localhost:8080/",
          "height": 487
        },
        "id": "tNShRbJEecxo",
        "outputId": "e25b8a76-7ea1-4f7d-85e9-9681c72db81c"
      },
      "execution_count": 35,
      "outputs": [
        {
          "output_type": "display_data",
          "data": {
            "text/plain": [
              "<Figure size 800x500 with 1 Axes>"
            ],
            "image/png": "[encoded data removed]"
          },
          "metadata": {}
        }
      ]
    },
    {
      "cell_type": "markdown",
      "source": [
        "**Task 2.4: Data Inconsistency Fixes**"
      ],
      "metadata": {
        "id": "ovppwO-q0g9F"
      }
    },
    {
      "cell_type": "markdown",
      "source": [
        " Fix date format inconsistencies"
      ],
      "metadata": {
        "id": "wDZJF23Px21L"
      }
    },
    {
      "cell_type": "code",
      "source": [
        "df = hotel_booking[~((hotel_booking['adults'] == 0) & (hotel_booking['children'] == 0) & (hotel_booking['babies'] == 0))]\n",
        "\n",
        "# Standardize date format (if applicable)\n",
        "hotel_booking['reservation_status_date'] = pd.to_datetime(hotel_booking['reservation_status_date'])"
      ],
      "metadata": {
        "id": "iifgTN-Mx6Fj"
      },
      "execution_count": 36,
      "outputs": []
    },
    {
      "cell_type": "markdown",
      "source": [
        "Handle impossible combinations"
      ],
      "metadata": {
        "id": "5QoIzlOne7CU"
      }
    },
    {
      "cell_type": "code",
      "source": [
        "df_cleaned = hotel_booking_cleaned[~((hotel_booking_cleaned['adults'] == 0) & (hotel_booking_cleaned['children'] == 0) & (hotel_booking_cleaned['babies'] == 0))]"
      ],
      "metadata": {
        "id": "2libTDQ1e8ED"
      },
      "execution_count": 37,
      "outputs": []
    },
    {
      "cell_type": "markdown",
      "source": [
        "**Task 3.1: Data Integrity Checks**"
      ],
      "metadata": {
        "id": "xTcJm9My0pkj"
      }
    },
    {
      "cell_type": "markdown",
      "source": [
        "Data Integrity Check"
      ],
      "metadata": {
        "id": "SHxCrqEEx-qb"
      }
    },
    {
      "cell_type": "code",
      "source": [
        "# Guests > 0\n",
        "assert (df['adults'] + df['children'] + df['babies']).min() > 0\n",
        "\n",
        "# Date range check\n",
        "print(df['arrival_date_year'].value_counts())\n",
        "\n",
        "# Reasonable ranges\n",
        "print(df[['lead_time', 'adr']].describe())\n"
      ],
      "metadata": {
        "colab": {
          "base_uri": "https://localhost:8080/"
        },
        "id": "9aOuwDpKyBFL",
        "outputId": "a4386d61-eb6d-490a-e38c-2f598bbe4480"
      },
      "execution_count": 38,
      "outputs": [
        {
          "output_type": "stream",
          "name": "stdout",
          "text": [
            "arrival_date_year\n",
            "2016    6853\n",
            "2015    6709\n",
            "2017    3504\n",
            "Name: count, dtype: int64\n",
            "          lead_time           adr\n",
            "count  17066.000000  17066.000000\n",
            "mean      87.209364     91.777129\n",
            "std       95.067321     56.142194\n",
            "min        0.000000     -6.380000\n",
            "25%        9.000000     48.000000\n",
            "50%       51.000000     75.000000\n",
            "75%      142.000000    127.000000\n",
            "max      737.000000    246.670000\n"
          ]
        }
      ]
    },
    {
      "cell_type": "markdown",
      "source": [
        "**Task 3.3: Final Dataset Preparation**"
      ],
      "metadata": {
        "id": "4r3X-6hz0zk7"
      }
    },
    {
      "cell_type": "markdown",
      "source": [
        "Final Dataset Preparation"
      ],
      "metadata": {
        "id": "f5WPPXXrywAy"
      }
    },
    {
      "cell_type": "code",
      "source": [
        "hotel_booking.to_csv('/content/hotel_bookings.csv', index=False)\n",
        "\n",
        "data_dict = pd.DataFrame({\n",
        "    'Column Name': hotel_booking.columns,\n",
        "    'Description': ['Add descriptions here...'] * len(hotel_booking.columns),\n",
        "    'Data Type': hotel_booking.dtypes.astype(str).values\n",
        "})\n",
        "data_dict.to_csv('/content/hotel_bookings.csv', index=False)"
      ],
      "metadata": {
        "id": "LiJQ604Nyxty"
      },
      "execution_count": 39,
      "outputs": []
    },
    {
      "cell_type": "code",
      "source": [
        "# Final cleaned dataset\n",
        "# Optional: rename or reset index if needed\n",
        "df_cleaned = df.copy()\n",
        "df_cleaned.reset_index(drop=True, inplace=True)"
      ],
      "metadata": {
        "id": "-ZjKxpTrz1sD"
      },
      "execution_count": 40,
      "outputs": []
    },
    {
      "cell_type": "code",
      "source": [
        "# Export to CSV\n",
        "df_cleaned.to_csv('/content/hotel_bookings_cleaned.csv', index=False)\n",
        "\n",
        "# For Colab users: Download the file\n",
        "from google.colab import files\n",
        "files.download('/content/hotel_bookings_cleaned.csv')"
      ],
      "metadata": {
        "colab": {
          "base_uri": "https://localhost:8080/",
          "height": 17
        },
        "id": "78KQH6_Gz6kz",
        "outputId": "363a3425-c27e-42f0-9689-1f22a61c3714"
      },
      "execution_count": 42,
      "outputs": [
        {
          "output_type": "display_data",
          "data": {
            "text/plain": [
              "<IPython.core.display.Javascript object>"
            ],
            "application/javascript": [
              "\n",
              "    async function download(id, filename, size) {\n",
              "      if (!google.colab.kernel.accessAllowed) {\n",
              "        return;\n",
              "      }\n",
              "      const div = document.createElement('div');\n",
              "      const label = document.createElement('label');\n",
              "      label.textContent = `Downloading \"${filename}\": `;\n",
              "      div.appendChild(label);\n",
              "      const progress = document.createElement('progress');\n",
              "      progress.max = size;\n",
              "      div.appendChild(progress);\n",
              "      document.body.appendChild(div);\n",
              "\n",
              "      const buffers = [];\n",
              "      let downloaded = 0;\n",
              "\n",
              "      const channel = await google.colab.kernel.comms.open(id);\n",
              "      // Send a message to notify the kernel that we're ready.\n",
              "      channel.send({})\n",
              "\n",
              "      for await (const message of channel.messages) {\n",
              "        // Send a message to notify the kernel that we're ready.\n",
              "        channel.send({})\n",
              "        if (message.buffers) {\n",
              "          for (const buffer of message.buffers) {\n",
              "            buffers.push(buffer);\n",
              "            downloaded += buffer.byteLength;\n",
              "            progress.value = downloaded;\n",
              "          }\n",
              "        }\n",
              "      }\n",
              "      const blob = new Blob(buffers, {type: 'application/binary'});\n",
              "      const a = document.createElement('a');\n",
              "      a.href = window.URL.createObjectURL(blob);\n",
              "      a.download = filename;\n",
              "      div.appendChild(a);\n",
              "      a.click();\n",
              "      div.remove();\n",
              "    }\n",
              "  "
            ]
          },
          "metadata": {}
        },
        {
          "output_type": "display_data",
          "data": {
            "text/plain": [
              "<IPython.core.display.Javascript object>"
            ],
            "application/javascript": [
              "download(\"download_841e932a-764d-4599-84a7-836f2a04b4da\", \"hotel_bookings_cleaned.csv\", 2482878)"
            ]
          },
          "metadata": {}
        }
      ]
    }
  ]
}